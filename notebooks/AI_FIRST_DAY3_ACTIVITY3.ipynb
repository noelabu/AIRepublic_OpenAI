{
  "nbformat": 4,
  "nbformat_minor": 0,
  "metadata": {
    "colab": {
      "provenance": []
    },
    "kernelspec": {
      "name": "python3",
      "display_name": "Python 3"
    },
    "language_info": {
      "name": "python"
    }
  },
  "cells": [
    {
      "cell_type": "markdown",
      "source": [
        "## Installing Python Modules"
      ],
      "metadata": {
        "id": "lkVP6IgdusuL"
      }
    },
    {
      "cell_type": "code",
      "source": [
        "!pip install openai==0.28.1\n",
        "!pip install tiktoken==0.6.0\n",
        "!pip install langchain==0.1.20"
      ],
      "metadata": {
        "colab": {
          "base_uri": "https://localhost:8080/"
        },
        "collapsed": true,
        "id": "iEGgCrwvujC8",
        "outputId": "78c18b35-8388-4e59-dd96-06f557fe993b"
      },
      "execution_count": 3,
      "outputs": [
        {
          "output_type": "stream",
          "name": "stdout",
          "text": [
            "Requirement already satisfied: openai==0.28.1 in /usr/local/lib/python3.10/dist-packages (0.28.1)\n",
            "Requirement already satisfied: requests>=2.20 in /usr/local/lib/python3.10/dist-packages (from openai==0.28.1) (2.32.3)\n",
            "Requirement already satisfied: tqdm in /usr/local/lib/python3.10/dist-packages (from openai==0.28.1) (4.66.5)\n",
            "Requirement already satisfied: aiohttp in /usr/local/lib/python3.10/dist-packages (from openai==0.28.1) (3.10.10)\n",
            "Requirement already satisfied: charset-normalizer<4,>=2 in /usr/local/lib/python3.10/dist-packages (from requests>=2.20->openai==0.28.1) (3.4.0)\n",
            "Requirement already satisfied: idna<4,>=2.5 in /usr/local/lib/python3.10/dist-packages (from requests>=2.20->openai==0.28.1) (3.10)\n",
            "Requirement already satisfied: urllib3<3,>=1.21.1 in /usr/local/lib/python3.10/dist-packages (from requests>=2.20->openai==0.28.1) (2.2.3)\n",
            "Requirement already satisfied: certifi>=2017.4.17 in /usr/local/lib/python3.10/dist-packages (from requests>=2.20->openai==0.28.1) (2024.8.30)\n",
            "Requirement already satisfied: aiohappyeyeballs>=2.3.0 in /usr/local/lib/python3.10/dist-packages (from aiohttp->openai==0.28.1) (2.4.3)\n",
            "Requirement already satisfied: aiosignal>=1.1.2 in /usr/local/lib/python3.10/dist-packages (from aiohttp->openai==0.28.1) (1.3.1)\n",
            "Requirement already satisfied: attrs>=17.3.0 in /usr/local/lib/python3.10/dist-packages (from aiohttp->openai==0.28.1) (24.2.0)\n",
            "Requirement already satisfied: frozenlist>=1.1.1 in /usr/local/lib/python3.10/dist-packages (from aiohttp->openai==0.28.1) (1.4.1)\n",
            "Requirement already satisfied: multidict<7.0,>=4.5 in /usr/local/lib/python3.10/dist-packages (from aiohttp->openai==0.28.1) (6.1.0)\n",
            "Requirement already satisfied: yarl<2.0,>=1.12.0 in /usr/local/lib/python3.10/dist-packages (from aiohttp->openai==0.28.1) (1.16.0)\n",
            "Requirement already satisfied: async-timeout<5.0,>=4.0 in /usr/local/lib/python3.10/dist-packages (from aiohttp->openai==0.28.1) (4.0.3)\n",
            "Requirement already satisfied: typing-extensions>=4.1.0 in /usr/local/lib/python3.10/dist-packages (from multidict<7.0,>=4.5->aiohttp->openai==0.28.1) (4.12.2)\n",
            "Requirement already satisfied: propcache>=0.2.0 in /usr/local/lib/python3.10/dist-packages (from yarl<2.0,>=1.12.0->aiohttp->openai==0.28.1) (0.2.0)\n",
            "Requirement already satisfied: tiktoken==0.6.0 in /usr/local/lib/python3.10/dist-packages (0.6.0)\n",
            "Requirement already satisfied: regex>=2022.1.18 in /usr/local/lib/python3.10/dist-packages (from tiktoken==0.6.0) (2024.9.11)\n",
            "Requirement already satisfied: requests>=2.26.0 in /usr/local/lib/python3.10/dist-packages (from tiktoken==0.6.0) (2.32.3)\n",
            "Requirement already satisfied: charset-normalizer<4,>=2 in /usr/local/lib/python3.10/dist-packages (from requests>=2.26.0->tiktoken==0.6.0) (3.4.0)\n",
            "Requirement already satisfied: idna<4,>=2.5 in /usr/local/lib/python3.10/dist-packages (from requests>=2.26.0->tiktoken==0.6.0) (3.10)\n",
            "Requirement already satisfied: urllib3<3,>=1.21.1 in /usr/local/lib/python3.10/dist-packages (from requests>=2.26.0->tiktoken==0.6.0) (2.2.3)\n",
            "Requirement already satisfied: certifi>=2017.4.17 in /usr/local/lib/python3.10/dist-packages (from requests>=2.26.0->tiktoken==0.6.0) (2024.8.30)\n",
            "Requirement already satisfied: langchain==0.1.20 in /usr/local/lib/python3.10/dist-packages (0.1.20)\n",
            "Requirement already satisfied: PyYAML>=5.3 in /usr/local/lib/python3.10/dist-packages (from langchain==0.1.20) (6.0.2)\n",
            "Requirement already satisfied: SQLAlchemy<3,>=1.4 in /usr/local/lib/python3.10/dist-packages (from langchain==0.1.20) (2.0.36)\n",
            "Requirement already satisfied: aiohttp<4.0.0,>=3.8.3 in /usr/local/lib/python3.10/dist-packages (from langchain==0.1.20) (3.10.10)\n",
            "Requirement already satisfied: async-timeout<5.0.0,>=4.0.0 in /usr/local/lib/python3.10/dist-packages (from langchain==0.1.20) (4.0.3)\n",
            "Requirement already satisfied: dataclasses-json<0.7,>=0.5.7 in /usr/local/lib/python3.10/dist-packages (from langchain==0.1.20) (0.6.7)\n",
            "Requirement already satisfied: langchain-community<0.1,>=0.0.38 in /usr/local/lib/python3.10/dist-packages (from langchain==0.1.20) (0.0.38)\n",
            "Requirement already satisfied: langchain-core<0.2.0,>=0.1.52 in /usr/local/lib/python3.10/dist-packages (from langchain==0.1.20) (0.1.52)\n",
            "Requirement already satisfied: langchain-text-splitters<0.1,>=0.0.1 in /usr/local/lib/python3.10/dist-packages (from langchain==0.1.20) (0.0.2)\n",
            "Requirement already satisfied: langsmith<0.2.0,>=0.1.17 in /usr/local/lib/python3.10/dist-packages (from langchain==0.1.20) (0.1.137)\n",
            "Requirement already satisfied: numpy<2,>=1 in /usr/local/lib/python3.10/dist-packages (from langchain==0.1.20) (1.26.4)\n",
            "Requirement already satisfied: pydantic<3,>=1 in /usr/local/lib/python3.10/dist-packages (from langchain==0.1.20) (2.9.2)\n",
            "Requirement already satisfied: requests<3,>=2 in /usr/local/lib/python3.10/dist-packages (from langchain==0.1.20) (2.32.3)\n",
            "Requirement already satisfied: tenacity<9.0.0,>=8.1.0 in /usr/local/lib/python3.10/dist-packages (from langchain==0.1.20) (8.5.0)\n",
            "Requirement already satisfied: aiohappyeyeballs>=2.3.0 in /usr/local/lib/python3.10/dist-packages (from aiohttp<4.0.0,>=3.8.3->langchain==0.1.20) (2.4.3)\n",
            "Requirement already satisfied: aiosignal>=1.1.2 in /usr/local/lib/python3.10/dist-packages (from aiohttp<4.0.0,>=3.8.3->langchain==0.1.20) (1.3.1)\n",
            "Requirement already satisfied: attrs>=17.3.0 in /usr/local/lib/python3.10/dist-packages (from aiohttp<4.0.0,>=3.8.3->langchain==0.1.20) (24.2.0)\n",
            "Requirement already satisfied: frozenlist>=1.1.1 in /usr/local/lib/python3.10/dist-packages (from aiohttp<4.0.0,>=3.8.3->langchain==0.1.20) (1.4.1)\n",
            "Requirement already satisfied: multidict<7.0,>=4.5 in /usr/local/lib/python3.10/dist-packages (from aiohttp<4.0.0,>=3.8.3->langchain==0.1.20) (6.1.0)\n",
            "Requirement already satisfied: yarl<2.0,>=1.12.0 in /usr/local/lib/python3.10/dist-packages (from aiohttp<4.0.0,>=3.8.3->langchain==0.1.20) (1.16.0)\n",
            "Requirement already satisfied: marshmallow<4.0.0,>=3.18.0 in /usr/local/lib/python3.10/dist-packages (from dataclasses-json<0.7,>=0.5.7->langchain==0.1.20) (3.23.0)\n",
            "Requirement already satisfied: typing-inspect<1,>=0.4.0 in /usr/local/lib/python3.10/dist-packages (from dataclasses-json<0.7,>=0.5.7->langchain==0.1.20) (0.9.0)\n",
            "Requirement already satisfied: jsonpatch<2.0,>=1.33 in /usr/local/lib/python3.10/dist-packages (from langchain-core<0.2.0,>=0.1.52->langchain==0.1.20) (1.33)\n",
            "Requirement already satisfied: packaging<24.0,>=23.2 in /usr/local/lib/python3.10/dist-packages (from langchain-core<0.2.0,>=0.1.52->langchain==0.1.20) (23.2)\n",
            "Requirement already satisfied: httpx<1,>=0.23.0 in /usr/local/lib/python3.10/dist-packages (from langsmith<0.2.0,>=0.1.17->langchain==0.1.20) (0.27.2)\n",
            "Requirement already satisfied: orjson<4.0.0,>=3.9.14 in /usr/local/lib/python3.10/dist-packages (from langsmith<0.2.0,>=0.1.17->langchain==0.1.20) (3.10.10)\n",
            "Requirement already satisfied: requests-toolbelt<2.0.0,>=1.0.0 in /usr/local/lib/python3.10/dist-packages (from langsmith<0.2.0,>=0.1.17->langchain==0.1.20) (1.0.0)\n",
            "Requirement already satisfied: annotated-types>=0.6.0 in /usr/local/lib/python3.10/dist-packages (from pydantic<3,>=1->langchain==0.1.20) (0.7.0)\n",
            "Requirement already satisfied: pydantic-core==2.23.4 in /usr/local/lib/python3.10/dist-packages (from pydantic<3,>=1->langchain==0.1.20) (2.23.4)\n",
            "Requirement already satisfied: typing-extensions>=4.6.1 in /usr/local/lib/python3.10/dist-packages (from pydantic<3,>=1->langchain==0.1.20) (4.12.2)\n",
            "Requirement already satisfied: charset-normalizer<4,>=2 in /usr/local/lib/python3.10/dist-packages (from requests<3,>=2->langchain==0.1.20) (3.4.0)\n",
            "Requirement already satisfied: idna<4,>=2.5 in /usr/local/lib/python3.10/dist-packages (from requests<3,>=2->langchain==0.1.20) (3.10)\n",
            "Requirement already satisfied: urllib3<3,>=1.21.1 in /usr/local/lib/python3.10/dist-packages (from requests<3,>=2->langchain==0.1.20) (2.2.3)\n",
            "Requirement already satisfied: certifi>=2017.4.17 in /usr/local/lib/python3.10/dist-packages (from requests<3,>=2->langchain==0.1.20) (2024.8.30)\n",
            "Requirement already satisfied: greenlet!=0.4.17 in /usr/local/lib/python3.10/dist-packages (from SQLAlchemy<3,>=1.4->langchain==0.1.20) (3.1.1)\n",
            "Requirement already satisfied: anyio in /usr/local/lib/python3.10/dist-packages (from httpx<1,>=0.23.0->langsmith<0.2.0,>=0.1.17->langchain==0.1.20) (3.7.1)\n",
            "Requirement already satisfied: httpcore==1.* in /usr/local/lib/python3.10/dist-packages (from httpx<1,>=0.23.0->langsmith<0.2.0,>=0.1.17->langchain==0.1.20) (1.0.6)\n",
            "Requirement already satisfied: sniffio in /usr/local/lib/python3.10/dist-packages (from httpx<1,>=0.23.0->langsmith<0.2.0,>=0.1.17->langchain==0.1.20) (1.3.1)\n",
            "Requirement already satisfied: h11<0.15,>=0.13 in /usr/local/lib/python3.10/dist-packages (from httpcore==1.*->httpx<1,>=0.23.0->langsmith<0.2.0,>=0.1.17->langchain==0.1.20) (0.14.0)\n",
            "Requirement already satisfied: jsonpointer>=1.9 in /usr/local/lib/python3.10/dist-packages (from jsonpatch<2.0,>=1.33->langchain-core<0.2.0,>=0.1.52->langchain==0.1.20) (3.0.0)\n",
            "Requirement already satisfied: mypy-extensions>=0.3.0 in /usr/local/lib/python3.10/dist-packages (from typing-inspect<1,>=0.4.0->dataclasses-json<0.7,>=0.5.7->langchain==0.1.20) (1.0.0)\n",
            "Requirement already satisfied: propcache>=0.2.0 in /usr/local/lib/python3.10/dist-packages (from yarl<2.0,>=1.12.0->aiohttp<4.0.0,>=3.8.3->langchain==0.1.20) (0.2.0)\n",
            "Requirement already satisfied: exceptiongroup in /usr/local/lib/python3.10/dist-packages (from anyio->httpx<1,>=0.23.0->langsmith<0.2.0,>=0.1.17->langchain==0.1.20) (1.2.2)\n"
          ]
        }
      ]
    },
    {
      "cell_type": "markdown",
      "source": [
        "## Import Python Modules"
      ],
      "metadata": {
        "id": "nJrf6GbPu6pF"
      }
    },
    {
      "cell_type": "code",
      "source": [
        "import os\n",
        "import openai\n",
        "import numpy as np\n",
        "import pandas as pd\n",
        "import json\n",
        "from langchain.chat_models import ChatOpenAI\n",
        "from langchain.document_loaders import CSVLoader\n",
        "from langchain.embeddings import OpenAIEmbeddings\n",
        "from langchain.prompts import ChatPromptTemplate\n",
        "from langchain.vectorstores import Chroma\n",
        "from langchain_core.output_parsers import StrOutputParser\n",
        "from langchain_core.runnables import RunnableLambda, RunnablePassthrough\n",
        "from openai.embeddings_utils import get_embedding"
      ],
      "metadata": {
        "id": "86f7UzwLu-Y2"
      },
      "execution_count": 4,
      "outputs": []
    },
    {
      "cell_type": "markdown",
      "source": [
        "## Adding OpenAI API KEY"
      ],
      "metadata": {
        "id": "g0wRMEJ2vGP1"
      }
    },
    {
      "cell_type": "code",
      "source": [
        "from google.colab import userdata\n",
        "\n",
        "openai.api_key = userdata.get('OPENAI_KEY')\n",
        "os.environ[\"OPENAI_API_KEY\"] = userdata.get('OPENAI_KEY')"
      ],
      "metadata": {
        "id": "QQLhTdngvO-M"
      },
      "execution_count": 5,
      "outputs": []
    },
    {
      "cell_type": "markdown",
      "source": [
        "## Prompting for Text Summarization\n",
        "\n",
        "News Source: https://technology.inquirer.net/138091/ai-decodes-oinks-grunts-to-keep-pigs-happy"
      ],
      "metadata": {
        "id": "cboUjVzOvn6E"
      }
    },
    {
      "cell_type": "code",
      "source": [
        "system_prompt = \"\"\" You are a dedicated summarization assistant designed to help users distill the content of news articles into clear and concise summaries. Your task is to ensure that users can quickly grasp the essential information without having to read the entire article. Follow these comprehensive guidelines:\n",
        "\n",
        "### 1. **Comprehension of Content:**\n",
        "   - Read the provided article thoroughly to understand its main ideas and arguments.\n",
        "   - Pay attention to the overall tone, context, and purpose of the article.\n",
        "\n",
        "### 2. **Identification of Key Elements:**\n",
        "   - **Main Topic:** Identify the primary subject of the article.\n",
        "   - **Significant Facts:** Extract important data, statistics, and findings that support the main topic.\n",
        "   - **Key Quotes:** Highlight relevant statements from important figures or experts that add weight to the article.\n",
        "   - **Contextual Background:** Include any necessary background information that helps frame the article's subject.\n",
        "\n",
        "### 3. **Creating a Concise Summary:**\n",
        "   - **Structure:** Organize the summary logically, starting with the main idea followed by supporting details.\n",
        "   - **Brevity:** Aim to keep the summary short—ideally one to three paragraphs—while ensuring it is informative.\n",
        "   - **Clarity:** Use straightforward language and avoid jargon unless necessary. If jargon is used, provide a brief explanation.\n",
        "\n",
        "### 4. **Ensuring Readability:**\n",
        "   - Write in a way that is easy for readers of all backgrounds to understand.\n",
        "   - Use bullet points or numbered lists if appropriate, to enhance clarity and readability.\n",
        "\n",
        "### 5. **Tailoring to User Preferences:**\n",
        "   - Ask users if they have specific preferences for the length or focus of the summary (e.g., a brief overview or a detailed breakdown).\n",
        "   - Be adaptable, providing more or less detail as requested.\n",
        "\n",
        "### 6. **Citing Sources:**\n",
        "   - If the user requests, mention the original source of the article and any relevant publication details to maintain credibility.\n",
        "\n",
        "### 7. **Final Review:**\n",
        "   - Before delivering the summary, review it to ensure it accurately reflects the article's content and key messages.\n",
        "   - Ensure that the summary is free from errors and conveys the intended meaning clearly.\n",
        "\n",
        "Your ultimate goal is to empower users to stay informed by providing them with accessible and precise summaries of news articles, facilitating their understanding of current events and important issues.\n",
        "\n",
        "\"\"\""
      ],
      "metadata": {
        "id": "5XubDPV_vt45"
      },
      "execution_count": 7,
      "outputs": []
    },
    {
      "cell_type": "markdown",
      "source": [
        "## Text Summarization using OpenAI API"
      ],
      "metadata": {
        "id": "YhQ85X8Hi7J8"
      }
    },
    {
      "cell_type": "code",
      "source": [
        "user_message = \"\"\"AI decodes oinks, grunts to keep pigs happy\n",
        "\n",
        "VIPPEROD, Denmark—European scientists have developed an artificial intelligence (AI) algorithm capable of interpreting pig sounds, aiming to create a tool that can help farmers improve animal welfare.\n",
        "\n",
        "The algorithm could potentially alert farmers to negative emotions in pigs, thereby improving their well-being, according to Elodie Mandel-Briefer, a behavioral biologist at the University of Copenhagen who is coleading the study.\n",
        "\n",
        "The scientists, from universities in Denmark, Germany, Switzerland, France, Norway and the Czech Republic, used thousands of recorded pig sounds in different scenarios, including play, isolation and competition for food, to find that grunts, oinks and squeals reveal positive or negative emotions.\n",
        "\n",
        "While many farmers already have a good understanding of the well-being of their animals by watching them in the pig pen, existing tools mostly measure their physical condition, Mandel-Briefer said.\n",
        "\n",
        "“Emotions of animals are central to their welfare, but we don’t measure it much on farms,” she said.\n",
        "\n",
        "The algorithm demonstrated that pigs kept in outdoor, free-range or organic farms with the ability to roam and dig in the dirt produced fewer stress calls than conventionally raised pigs. The researchers believe that this method, once fully developed, could also be used to label farms, helping consumers make informed choices.\n",
        "\n",
        "“Once we have the tool working, farmers can have an app on their phone that can translate what their pigs are saying in terms of emotions,” Mandel-Briefer said.\n",
        "\n",
        "Short grunts typically indicate positive emotions, while long grunts often signal discomfort, such as when pigs push each other by the trough. High-frequency sounds like screams or squeals usually mean the pigs are stressed, for instance, when they are in pain, fight, or are separated from each other.\n",
        "\n",
        "The scientists used these findings to create an algorithm that employs AI.\n",
        "\n",
        "“Artificial intelligence really helps us to both process the huge amount of sounds that we get, but also to classify them automatically,” Mandel-Briefer said.\n",
        "\"\"\""
      ],
      "metadata": {
        "id": "BGAFuKVKwP3t"
      },
      "execution_count": 14,
      "outputs": []
    },
    {
      "cell_type": "code",
      "source": [
        "def text_summarization(news):\n",
        "  struct = [{\"role\": \"system\", \"content\": system_prompt}]\n",
        "  user_message = news\n",
        "  struct.append({\"role\": \"user\", \"content\": user_message})\n",
        "  chat = openai.ChatCompletion.create(model=\"gpt-4o-mini\", messages = struct)\n",
        "  response = chat.choices[0].message.content\n",
        "  struct.append({\"role\": \"assistant\", \"content\": response})\n",
        "  return response"
      ],
      "metadata": {
        "id": "3OB96QP-lC0X"
      },
      "execution_count": 15,
      "outputs": []
    },
    {
      "cell_type": "code",
      "source": [
        "text_summarization(user_message)"
      ],
      "metadata": {
        "colab": {
          "base_uri": "https://localhost:8080/",
          "height": 161
        },
        "id": "AJDxfRrJlguM",
        "outputId": "a3ad8e3c-7fd2-40e7-ffcd-0ed1304af225"
      },
      "execution_count": 16,
      "outputs": [
        {
          "output_type": "execute_result",
          "data": {
            "text/plain": [
              "'**Summary: AI Decodes Pig Sounds to Enhance Animal Welfare**\\n\\nResearchers from several European universities have developed an artificial intelligence (AI) algorithm that can interpret pig sounds, like oinks and grunts, to help farmers improve animal welfare. The AI analyzes thousands of recorded pig vocalizations across various scenarios, revealing how different sounds correspond to positive or negative emotions.\\n\\nKey findings include:\\n- Pigs raised in outdoor or organic settings produce fewer stress-related sounds compared to those in conventional farms.\\n- The algorithm categorizes sounds, helping farmers understand pig emotions, which are crucial for welfare but often overlooked in current farming practices.\\n- Short grunts usually signal positive emotions, while longer grunts indicate discomfort and high-frequency sounds like squeals reflect stress.\\n\\nElodie Mandel-Briefer, a co-leader of the study, envisions a future where farmers could use a mobile app that translates pig vocalizations into emotional insights, thus promoting better farming practices and informed consumer choices.'"
            ],
            "application/vnd.google.colaboratory.intrinsic+json": {
              "type": "string"
            }
          },
          "metadata": {},
          "execution_count": 16
        }
      ]
    }
  ]
}